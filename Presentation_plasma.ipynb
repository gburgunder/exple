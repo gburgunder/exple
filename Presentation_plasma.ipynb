{
 "cells": [
  {
   "cell_type": "markdown",
   "metadata": {},
   "source": [
    "# Les plasmas\n",
    "Ci dessous, une vidéo d'introduction sur les plasmas."
   ]
  },
  {
   "cell_type": "code",
   "execution_count": 2,
   "metadata": {
    "collapsed": false
   },
   "outputs": [
    {
     "data": {
      "text/html": [
       "\n",
       "        <iframe\n",
       "            width=\"700\"\n",
       "            height=\"420\"\n",
       "            src=\"https://www.youtube.com/embed/AVEGJZxglIg\"\n",
       "            frameborder=\"0\"\n",
       "            allowfullscreen\n",
       "        ></iframe>\n",
       "        "
      ],
      "text/plain": [
       "<IPython.lib.display.YouTubeVideo at 0x614a748>"
      ]
     },
     "metadata": {},
     "output_type": "display_data"
    }
   ],
   "source": [
    "import   IPython.display as Id\n",
    "vid = Id.YouTubeVideo(\"AVEGJZxglIg\", width=700, height=420)\n",
    "Id.display(vid)"
   ]
  },
  {
   "cell_type": "markdown",
   "metadata": {},
   "source": [
    "Un plasma est un gaz totalement ou partiellement ionisé, globalement neutre, constitué d’ions positifs (masse $M$) et d’électrons libres (masse $m$, charge $−e$).\n",
    "\n",
    "C’est un état de la matière tout comme l’état solide, liquide ou gaz : on le désigne parfois comme le « 4ème état de la matière ». C’est l’état le plus courant dans l’Univers puisqu’il se retrouve dans :\n",
    "* le coeur des étoiles (plasma chaud et très dense avec une densité particulaire de l’ordre de $n^\\star \\simeq 10^{40}\\, m^{−3}$),\n",
    "* le milieu interstellaire (plasma plus froid et peu dense avec $n^\\star \\simeq 10^{6}\\, m^{−3}$),\n",
    "* les tubes à néon, la foudre,\n",
    "* l’ionosphère terrestre"
   ]
  },
  {
   "cell_type": "markdown",
   "metadata": {},
   "source": [
    "# L'ionosphère\n",
    "Ci-dessous, un lien vers une vidéo de la NASA sur l'atmosphère et l'ionosphère."
   ]
  },
  {
   "cell_type": "code",
   "execution_count": 3,
   "metadata": {
    "collapsed": false
   },
   "outputs": [
    {
     "data": {
      "text/html": [
       "\n",
       "        <iframe\n",
       "            width=\"700\"\n",
       "            height=\"420\"\n",
       "            src=\"https://www.youtube.com/embed/NnCvph9m9B4?start=141\"\n",
       "            frameborder=\"0\"\n",
       "            allowfullscreen\n",
       "        ></iframe>\n",
       "        "
      ],
      "text/plain": [
       "<IPython.lib.display.YouTubeVideo at 0x614a6d8>"
      ]
     },
     "metadata": {},
     "output_type": "display_data"
    }
   ],
   "source": [
    "vid = Id.YouTubeVideo(\"NnCvph9m9B4\", width=700, height=420, start=141)\n",
    "Id.display(vid)\n"
   ]
  },
  {
   "cell_type": "markdown",
   "metadata": {},
   "source": [
    "## L'ionosphère\n",
    "\n",
    "L'ionosphère est la partie de l'atmosphère supérieure, qui va de 50 à 1000 km au-dessus de la Terre, où les ions et les électrons sont présents en quantités suffisantes pour affecter la propagation des ondes électromagnétiques.\n",
    "La majeure partie de l'ionisation est produite par les rayons X, les ultraviolets émis par le Soleil et par le rayonnement corpusculaire produit par le Soleil. Bien que le soleil soit le plus grand contributeur à l'ionisation des hautes couches de l'atmosphère, les rayons cosmiques y contribuent également.\n",
    "\n",
    "L'ionosphère est un système dynamique contrôlé par de nombreux paramètres (mouvement macroscopique de l'atmosphère, émissions électromagnétiques,  variations du champ géomagnétique, ...). \n",
    "\n",
    "\n",
    "Le graphique ci-dessous montre les profils typiques de jour et de nuit de densité d'électrons dans l'ionosphère. \n",
    "On y observe plusieurs régions dans lesquelles la densité électronique augmente avec l'altitude. Le degré d'ionisation et la hauteur de chaque région ionosphérique varient considérablement avec le temps (cycle des taches solaires, cycle saisonnier, et diurnes), avec la localisation géographique (régions polaires, latitudes moyennes ou régions équatoriales), ...\n",
    "\n",
    "Sur la figure, $R$ représente l'indice solaire médian mensuelle qui caractérise\n",
    "\n"
   ]
  },
  {
   "cell_type": "markdown",
   "metadata": {},
   "source": [
    "![Profil_nelectron_ionosphere.png](Profil_nelectron_ionosphere.png \"Profils typiques  de jour et de nuit de la densité électronique dans l'ionosphère\")"
   ]
  },
  {
   "cell_type": "markdown",
   "metadata": {},
   "source": [
    "  source: [Istituto Nazionale di Geofisica e Vulcanologia](http://roma2.rm.ingv.it/en/research_areas/4/ionosphere)."
   ]
  },
  {
   "cell_type": "markdown",
   "metadata": {},
   "source": [
    " **<span style=\"color:blue\">Question:</span>** Quel est l'ordre de grandeur de la densité électronique dans l'ionosphère durant la journée? la nuit?\n",
    " \n",
    "Au niveau de la couche E, qui joue un rôle essentiel du point de vue de la communication radio, la pression est de l’ordre de l’ordre de $0.01\\, Pa$ et la température de l’ordre de $-50^\\circ C$.\n",
    "\n",
    " **<span style=\"color:blue\">Question:</span>** Comparer la densité particulaire $n^\\star$ avec la densité électronique au niveau de la couche E."
   ]
  },
  {
   "cell_type": "markdown",
   "metadata": {},
   "source": [
    "# L'ionosphère et les radiocommunications.\n",
    "## Guglielmo Marconi\n",
    "Pionnier de la radio, homme d'affaires avisé, Marconi fut également le fondateur de la première compagnie internationale de radiodiffusion.\n"
   ]
  },
  {
   "cell_type": "markdown",
   "metadata": {},
   "source": [
    "![fig_marconi.png](fig_marconi.png \"Guglielmo Marconi\")"
   ]
  },
  {
   "cell_type": "markdown",
   "metadata": {},
   "source": [
    "Guglielmo Marconi réalise, le 12 décembre 1901, la première liaison transatlantique entre Poldhu (Cornouailles) et Terre-Neuve au Canada. Outre son caractère spectaculaire, cette expérience d'émission a permis de mettre en évidence les phénomènes de propagation à longue distance en basse fréquence et en moyenne fréquence prouvant au passage que la rotondité de la Terre n'est pas un obstacle à la transmission des ondes."
   ]
  },
  {
   "cell_type": "markdown",
   "metadata": {},
   "source": [
    "## Le rôle de l'ionosphère\n",
    "\n",
    "Depuis la première liaison radioélectrique via l'ionosphère réalisée par Marconi, l'utilisation de cette technique de communication entre deux stations terrestres lointaines s'est développée. Elle conserve encore une certaine importance malgré la concurrence des liaisons par satellite. Le problème pour une liaison donnée est le choix de la fréquence de travail : trop élevée, l'onde ne sera pas réfléchie par l'ionosphère mais la traversera et sera perdue dans l'espace ; trop faible, l'absorption dans les basses couches (région D) devient prohibitive pour le bilan de liaison. D'où la nécessité de choisir au mieux la fréquence de la liaison et surtout de la modifier en fonction de l'état de l'ionosphère. Les fréquences utilisées, de l'ordre de quelques dizaines de mégahertz, sont plus faibles de nuit quand l'ionosphère est moins dense et plus élevées de jour pour minimiser l'absorption. Des services de prévision ionosphérique chargés de déterminer à l'avance l'état probable de l'ionosphère du point de vue de ses effets radioélectriques existent dans certains pays, dont la France.\n",
    "\n",
    "Les liaisons satellite-sol s'effectuent à des fréquences plus élevées, de l'ordre de plusieurs centaines de mégahertz. Les effets de réfraction et de diffusion deviennent alors négligeables, et l'ionosphère peut être considérée comme transparente. À des fréquences basses, de l'ordre de la dizaine ou de la centaine de kilohertz, l'ionosphère se comporte également comme un réflecteur.\n",
    "\n",
    "Source: [Universalis](http://www.universalis.fr/encyclopedie/ionosphere/6-l-ionosphere-et-les-radiocommunications/#)\n"
   ]
  },
  {
   "cell_type": "markdown",
   "metadata": {},
   "source": [
    "**<span style=\"color:blue\">Question:</span>** À quelle fréquence se font les communications avec les satellites? Pour les liaisons radios intercontinentales?"
   ]
  },
  {
   "cell_type": "markdown",
   "metadata": {},
   "source": [
    "On souhaite modéliser la propagation des ondes électromagnétiques dans l'ionosphère. \n",
    "\n",
    "**<span style=\"color:blue\">Question:</span>**  À l'aide des documents ci-dessus, émettre des hypothèses permettant de décrire le comportement du plasma sous l'action d'une onde électromagnétique.\n",
    "Par exemple:\n",
    "* Comparer les masses des cations et des électrons. Quelles en sont les conséquences?\n",
    "* Le plasma est-il neutre? chargé négativement? positivement?\n",
    "* Comment s'écrivent les équations de Maxwell dans le plasma?\n",
    "* ..."
   ]
  },
  {
   "cell_type": "markdown",
   "metadata": {
    "collapsed": true
   },
   "source": []
  }
 ],
 "metadata": {
  "kernelspec": {
   "display_name": "Python 3",
   "language": "python",
   "name": "python3"
  },
  "language_info": {
   "codemirror_mode": {
    "name": "ipython",
    "version": 3
   },
   "file_extension": ".py",
   "mimetype": "text/x-python",
   "name": "python",
   "nbconvert_exporter": "python",
   "pygments_lexer": "ipython3",
   "version": "3.4.3"
  }
 },
 "nbformat": 4,
 "nbformat_minor": 0
}
